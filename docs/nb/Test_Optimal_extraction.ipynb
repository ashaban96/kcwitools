{
 "cells": [
  {
   "cell_type": "code",
   "execution_count": 2,
   "metadata": {},
   "outputs": [
    {
     "data": {
      "text/plain": [
       "<module 'kcwitools.extract_optimal' from '/Users/bordoloi/WORK/python/kcwitools/kcwitools/extract_optimal.py'>"
      ]
     },
     "execution_count": 2,
     "metadata": {},
     "output_type": "execute_result"
    }
   ],
   "source": [
    "#!/usr/bin/env python\n",
    "from __future__ import print_function\n",
    "\n",
    "from astropy.io import ascii, fits\n",
    "from importlib import reload\n",
    "%matplotlib notebook\n",
    "\n",
    "import numpy as np\n",
    "import matplotlib.pyplot as plt\n",
    "from kcwitools import extract_optimal as e\n",
    "from kcwitools import utils\n",
    "from kcwitools import image as im\n",
    "\n",
    "reload(e)"
   ]
  },
  {
   "cell_type": "code",
   "execution_count": 3,
   "metadata": {},
   "outputs": [],
   "source": [
    "##Now READ In KCWI Data Cube\n",
    "#filename='/Users/bordoloi/Dropbox/KCWI/LensedArc/Coadded_Data_cube.fits';\n",
    "#filenamevar='/Users/bordoloi/Dropbox/KCWI/LensedArc/Coadded_Data_sigma_cube.fits';\n",
    "#filenamewave='/Users/bordoloi/Dropbox/KCWI/LensedArc/arcwave.fits';\n",
    "\n",
    "\n",
    "filename='/Users/bordoloi/Dropbox/KCWI/LensedArc/KCWI_0718/Data/kb180708_00063_icubes.fits';\n",
    "filenamevar='/Users/bordoloi/Dropbox/KCWI/LensedArc/KCWI_0718/Data/kb180708_00063_vcubes.fits';\n",
    "\n",
    "hdu = fits.open(filename)\n",
    "hdu_hdr = hdu['PRIMARY'].header\n",
    "\n",
    "#Flux\n",
    "flux1 = hdu['PRIMARY'].data\n",
    "\n",
    "skyy1=20\n",
    "skyy2=25\n",
    "skyx1=5\n",
    "skyx2 =15\n",
    "flux=im.cube_skysub(filename, skyy1, skyy2, skyx1, skyx2)\n",
    "\n",
    "hdu = fits.open(filenamevar)\n",
    "#variance\n",
    "varcube1 = hdu['PRIMARY'].data\n",
    "varcube=im.var_skysub(filenamevar, skyy1, skyy2, skyx1, skyx2)\n",
    "#hdu_hdr = hdu['PRIMARY'].header\n",
    "\n",
    "#hdu = fits.open(filenamewave)\n",
    "#variance\n",
    "#wave = hdu['PRIMARY'].data\n",
    "\n",
    "# READ In the actual header\n",
    "#filename='/Users/bordoloi/Dropbox/KCWI/LensedArc/KCWI_0718/Data/kb180708_00063_icubes.fits';\n",
    "#hdu = fits.open(filename)\n",
    "#hdu_hdr = hdu['PRIMARY'].header\n",
    "#hdu_hdr\n",
    "\n",
    "wavegrid = utils.build_wave(hdu_hdr)\n",
    "\n",
    "# REMEMBER X and Y and transposed in python image plotting.\n",
    "# Therefore flip x and y while plotting\n",
    "x1=42;\n",
    "x2=44;\n",
    "y1=12;\n",
    "y2=24;\n",
    "corners=x1,x2,y1,y2\n",
    "#whitelight=np.sum(flux, axis=0)\n",
    "whitelight=im.build_whitelight(hdu_hdr,flux1)\n"
   ]
  },
  {
   "cell_type": "code",
   "execution_count": null,
   "metadata": {},
   "outputs": [],
   "source": [
    "# Plot the data cube with the extraction region\n",
    "plt.imshow(whitelight,cmap=plt.get_cmap('viridis'),origin=\"lower\")\n",
    "#plt.ylim([0,60])\n",
    "#plt.xlim([0,45])\n",
    "#plt.clim([0,1e-17])\n",
    "plt.colorbar()\n",
    "\n",
    "plt.plot([y1,y1,y2,y2,y1],[x1,x2,x2,x1,x1],'g')\n",
    "\n"
   ]
  },
  {
   "cell_type": "code",
   "execution_count": null,
   "metadata": {},
   "outputs": [],
   "source": [
    "# Now do optimal extraction\n",
    "reload(e)\n",
    "xspec,xspec_std=e.extract_optimal_1D(flux, varcube,hdu_hdr,corners,plot=True)\n"
   ]
  },
  {
   "cell_type": "code",
   "execution_count": null,
   "metadata": {},
   "outputs": [],
   "source": [
    "plt.step(xspec_std.wavelength.value,xspec_std.flux.value,'r')\n",
    "plt.step(xspec.wavelength.value,xspec.flux.value,'b')\n",
    "plt.ylim([0,0.2])\n",
    "plt.title(\"Optimal Extract (Blue) and Normal (red)\")\n"
   ]
  },
  {
   "cell_type": "code",
   "execution_count": null,
   "metadata": {},
   "outputs": [],
   "source": [
    "slices = (wavegrid >=3500.) & (wavegrid <= 5500.)\n",
    "\n",
    "sum(slices)"
   ]
  },
  {
   "cell_type": "code",
   "execution_count": null,
   "metadata": {},
   "outputs": [],
   "source": [
    "flux1=flux[slices,:,:]"
   ]
  },
  {
   "cell_type": "code",
   "execution_count": null,
   "metadata": {},
   "outputs": [],
   "source": [
    "q= flux[100,:,:] >0.00029;\n"
   ]
  },
  {
   "cell_type": "code",
   "execution_count": null,
   "metadata": {},
   "outputs": [],
   "source": [
    "ff=flux[100,:,:]"
   ]
  },
  {
   "cell_type": "code",
   "execution_count": null,
   "metadata": {},
   "outputs": [],
   "source": [
    "q=ff>0.0001\n",
    "q"
   ]
  },
  {
   "cell_type": "code",
   "execution_count": null,
   "metadata": {},
   "outputs": [],
   "source": [
    "qt= np.where(q == True)"
   ]
  },
  {
   "cell_type": "code",
   "execution_count": null,
   "metadata": {},
   "outputs": [],
   "source": [
    "qt"
   ]
  },
  {
   "cell_type": "code",
   "execution_count": null,
   "metadata": {},
   "outputs": [],
   "source": [
    "cube_bad=(~np.isfinite(flux))\n"
   ]
  },
  {
   "cell_type": "code",
   "execution_count": null,
   "metadata": {},
   "outputs": [],
   "source": [
    "cube_bad"
   ]
  },
  {
   "cell_type": "code",
   "execution_count": null,
   "metadata": {},
   "outputs": [],
   "source": []
  }
 ],
 "metadata": {
  "kernelspec": {
   "display_name": "Python 3",
   "language": "python",
   "name": "python3"
  },
  "language_info": {
   "codemirror_mode": {
    "name": "ipython",
    "version": 3
   },
   "file_extension": ".py",
   "mimetype": "text/x-python",
   "name": "python",
   "nbconvert_exporter": "python",
   "pygments_lexer": "ipython3",
   "version": "3.7.0"
  }
 },
 "nbformat": 4,
 "nbformat_minor": 2
}
